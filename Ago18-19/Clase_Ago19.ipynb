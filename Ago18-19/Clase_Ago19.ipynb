{
  "nbformat": 4,
  "nbformat_minor": 0,
  "metadata": {
    "colab": {
      "provenance": []
    },
    "kernelspec": {
      "name": "python3",
      "display_name": "Python 3"
    },
    "language_info": {
      "name": "python"
    }
  },
  "cells": [
    {
      "cell_type": "markdown",
      "source": [
        "# Regresión lineal -Minimos cuadrados\n",
        "$$m = \\frac{\\bar{xy} - \\bar{x}\\bar{y}}{\\bar{x_i^2}-\\bar{x_i}^2} $$\n",
        "$$b = \\bar{y}-m\\bar{x} $$\n",
        "### En M.L.\n",
        "E: error se vuelve $\\text{L}$ tal que $L = \\frac{1}{N} \\sum_i L_i(x_i,f_i(x_i;w_o,w_1))$, y se vuelve $\\text{t}$ ; (m,b) a ($w_0,w_1$). x: predictor\n",
        "$$\\hat{w_0} = \\bar{t} - \\hat{w_1} \\bar{x}$$\n",
        "$$\\hat{w_1} = \\bar{xt} - \\bar{x}\\bar{t}$$\n",
        "buscamos el agumento minimo de L de $w_0,w_1$ (Nota: w son los pesos para cada variable) \\\n",
        "$$f(x_n;w_0,w_1) = w_0 + w_1 x_n$$\n",
        "Cuando hay j varibles, deberíamos buscar j+1 ecuaciones para cada peso $w_{j-1}$ para minimizar L (derivando). \\\n",
        "Buscaremos otro metodo para no tener que derivar cada vez que lo necesitemos (matrices). \\\n",
        "El machine learning es cuando la computadora hace las cosas sin que yo le diga como. \\\n",
        "### Ejemplo para dos variables\n",
        "$$ w = \\begin{pmatrix} w_0 \\\\ w_1 \\end{pmatrix}$$ $$x_n = \\begin{pmatrix} 1 \\\\ x_n \\end{pmatrix}$$\n",
        "La $\\text{L}$ traducida a matrices es: $$L = \\frac{1}{N} (t-Xw)^T(t-Xw) $$\n",
        "con $X = \\begin{pmatrix} {x_1}^T\\\\{x_2}^T \\\\... \\\\ {x_n}^T \\end{pmatrix}=\\begin{pmatrix} 1 && x_1 \\\\1 && x_2\\\\ ... && ...\\\\1 && x_n \\end{pmatrix}$ \\\n",
        "Si quisieramos añadir otra variiable (lo que sea) solo añadiriamos otro peso i.e. cambiaríamos las dimensiones de nuestras matrices (también $\\text{X}$). \\\n",
        "\n"
      ],
      "metadata": {
        "id": "60VYbyyiUqur"
      }
    },
    {
      "cell_type": "markdown",
      "source": [
        "Usando $(Xw)^T = w^TX^T$ para escribir $L = \\frac{1}{N} (w^TX^T -t^T)(Xw - t)$ \\\n",
        "Encontramos la relación $L = \\frac{1}{N}w^TX^TXw - \\frac{2}{N}w^TX^Tt +\\frac{1}{N}t^Tt$ Despues Aplicamos la derivada respecto a la matriz w que es $\\frac{∂L}{∂w} = 0$ y suamos las propiedades adjuntas\n",
        "<img src=\"\">\n"
      ],
      "metadata": {
        "id": "jtWX1v_jjf56"
      }
    },
    {
      "cell_type": "markdown",
      "source": [
        "Despejando $\\text{w}$ obtenemos el resultado $w = (X^TX)^{-1}X^Tt$ \\\n",
        "Pero nos damos cuenta que $X^TX = N  \\begin{pmatrix} 1 && \\bar{x} \\\\ \\bar{x} && \\bar{x^2} \\end{pmatrix} $   y    $(X^TX)^{-1} = N  \\begin{pmatrix} \\bar{x^2} && -\\bar{x} \\\\ -\\bar{x} && 1 \\end{pmatrix} $ \\\n",
        "Y llegamos a $$\\hat{w} =\n",
        " \\begin{pmatrix} \\bar{x^2}\\bar{t} -\\bar{x}\\bar{xt} \\\\ -\\bar{x}\\bar{t} + \\bar{xt} \\end{pmatrix}\\frac{1}{\\bar{x^2} -\\bar{x}^2} $$"
      ],
      "metadata": {
        "id": "pQoq5Lk6mGn1"
      }
    },
    {
      "cell_type": "code",
      "execution_count": 1,
      "metadata": {
        "id": "bFc5m5wDUN6T"
      },
      "outputs": [],
      "source": [
        "import numpy as np\n",
        "import matplotlib.pyplot as plt"
      ]
    },
    {
      "cell_type": "code",
      "source": [
        "data = np.loadtxt('olympic100m_men.txt', delimiter=',').T\n",
        "\n",
        "data.shape\n",
        "x = data[0]\n",
        "y = data[1]\n",
        "plt.scatter(x, y);\n",
        "\n",
        "def min_cuadrados(x, y):\n",
        "    N = len(x)\n",
        "    m = (np.sum(x*y) - np.sum(x)*np.sum(y)/N)/(np.sum(x*x) - (np.sum(x)**2)/N)\n",
        "    b = (np.sum(y) - m*np.sum(x))/N\n",
        "\n",
        "    return (m, b)\n",
        "slope, b0 = min_cuadrados(x, y)\n",
        "\n",
        "x1 = np.linspace(np.min(x), np.max(x), 250)\n",
        "plt.scatter(x, y, color='black', s=10, label = 'Data')\n",
        "plt.plot(x1, slope*x1 + b0, color = 'red', ls ='--', label = 'Least Square Method')\n",
        "plt.legend();"
      ],
      "metadata": {
        "colab": {
          "base_uri": "https://localhost:8080/",
          "height": 430
        },
        "id": "bfxxeWPwvpbF",
        "outputId": "fe6d508d-4b0d-4308-b7bd-d1f9f52d08d5"
      },
      "execution_count": 14,
      "outputs": [
        {
          "output_type": "display_data",
          "data": {
            "text/plain": [
              "<Figure size 640x480 with 1 Axes>"
            ],
            "image/png": "[encoded data removed]"
          },
          "metadata": {}
        }
      ]
    },
    {
      "cell_type": "markdown",
      "source": [
        "### Funcion que reciba x y y pero con oepraciones matriciales y que devuelva w"
      ],
      "metadata": {
        "id": "Pa2SzXhey8JR"
      }
    },
    {
      "cell_type": "code",
      "source": [
        "def ws(X,y):\n",
        "  X = np.vstack((np.ones_like(x),x)).T\n",
        "  t = y\n",
        "  XX = np.matmul(X.T,X)\n",
        "  invXX = np.linalg.inv(XX)\n",
        "  Xt = np.matmul(X.T,t)\n",
        "  w = np.matmul(invXX, Xt)\n",
        "  return w\n",
        "\n"
      ],
      "metadata": {
        "id": "LM_T6MwhwhQI"
      },
      "execution_count": 15,
      "outputs": []
    },
    {
      "cell_type": "markdown",
      "source": [
        "### Modificar la funcion para añadir un termino cuadratico (otro peso)"
      ],
      "metadata": {
        "id": "nHTDo2I55524"
      }
    },
    {
      "cell_type": "code",
      "source": [
        "def ws_2(X,y):\n",
        "  X = np.vstack((np.ones_like(x),x,x**2)).T\n",
        "  t = y\n",
        "  XX = np.matmul(X.T,X)\n",
        "  invXX = np.linalg.inv(XX)\n",
        "  Xt = np.matmul(X.T,t)\n",
        "  w = np.matmul(invXX, Xt)\n",
        "  return w"
      ],
      "metadata": {
        "id": "wyr1gsId01j6"
      },
      "execution_count": 17,
      "outputs": []
    },
    {
      "cell_type": "code",
      "source": [],
      "metadata": {
        "id": "jBvo65lP1eWx"
      },
      "execution_count": null,
      "outputs": []
    }
  ]
}