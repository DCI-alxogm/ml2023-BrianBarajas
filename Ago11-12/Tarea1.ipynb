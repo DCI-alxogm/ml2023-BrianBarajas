{
 "cells": [
  {
   "cell_type": "code",
   "execution_count": 10,
   "metadata": {},
   "outputs": [],
   "source": [
    "import numpy as np\n",
    "import matplotlib.pyplot as plt\n",
    "import pandas as pd"
   ]
  },
  {
   "cell_type": "code",
   "execution_count": 11,
   "metadata": {},
   "outputs": [
    {
     "name": "stdout",
     "output_type": "stream",
     "text": [
      "Defaulting to user installation because normal site-packages is not writeable\n",
      "Requirement already satisfied: pandas in ./.local/lib/python3.10/site-packages (2.1.4)\n",
      "Requirement already satisfied: tzdata>=2022.1 in ./.local/lib/python3.10/site-packages (from pandas) (2023.3)\n",
      "Requirement already satisfied: pytz>=2020.1 in /usr/lib/python3/dist-packages (from pandas) (2022.1)\n",
      "Requirement already satisfied: python-dateutil>=2.8.2 in ./.local/lib/python3.10/site-packages (from pandas) (2.8.2)\n",
      "Requirement already satisfied: numpy<2,>=1.22.4 in ./.local/lib/python3.10/site-packages (from pandas) (1.26.2)\n",
      "Requirement already satisfied: six>=1.5 in ./.local/lib/python3.10/site-packages (from python-dateutil>=2.8.2->pandas) (1.16.0)\n",
      "Note: you may need to restart the kernel to use updated packages.\n"
     ]
    }
   ],
   "source": [
    "pip install pandas"
   ]
  },
  {
   "cell_type": "markdown",
   "metadata": {},
   "source": [
    " ### Numpy\n",
    "\"numpy.clip()\" sirve para acotar los valores de un array y los valores fuera de la cota se sustituyen. \\\n",
    "\"numpy.ptp()\" regresa el rango del arreglo (la longitud menos uno)"
   ]
  },
  {
   "cell_type": "code",
   "execution_count": 18,
   "metadata": {},
   "outputs": [
    {
     "name": "stdout",
     "output_type": "stream",
     "text": [
      "Original array: [1 2 3 4 5]\n",
      "Clipped array: [2 2 3 4 4]\n",
      "Range of array: 4\n"
     ]
    }
   ],
   "source": [
    "a = np.array([1, 2, 3, 4, 5])\n",
    "print(\"Original array:\", a)\n",
    "print(\"Clipped array:\", np.clip(a, 2, 4))\n",
    "print(\"Range of array:\", np.ptp(a))"
   ]
  },
  {
   "cell_type": "markdown",
   "metadata": {},
   "source": [
    "### Matplotlob\n",
    "\"matplotlib.pyplot.xcorr()\" Se usa para gráficar la cruz de correlación \\\n",
    "\"matplotlib.pyplot.specgram()\" Se usa para graficar un espectrograma "
   ]
  },
  {
   "cell_type": "code",
   "execution_count": 19,
   "metadata": {},
   "outputs": [
    {
     "name": "stderr",
     "output_type": "stream",
     "text": [
      "/tmp/ipykernel_18472/516648994.py:5: UserWarning: Only one segment is calculated since parameter NFFT (=100) >= signal length (=100).\n",
      "  ax2.specgram(x, NFFT=100, Fs=2, noverlap=90, mode='psd')\n"
     ]
    },
    {
     "data": {
      "image/png": "[encoded data removed]",
      "text/plain": [
       "<Figure size 640x480 with 2 Axes>"
      ]
     },
     "metadata": {},
     "output_type": "display_data"
    }
   ],
   "source": [
    "x, y = np.random.randn(2, 100)\n",
    "fig, [ax1, ax2] = plt.subplots(2, 1)\n",
    "ax1.xcorr(x, y, usevlines=True, maxlags=50, normed=True, lw=2)\n",
    "ax1.grid(True)\n",
    "ax2.specgram(x, NFFT=100, Fs=2, noverlap=90, mode='psd')\n",
    "plt.show()"
   ]
  },
  {
   "cell_type": "markdown",
   "metadata": {},
   "source": [
    "### Pandas\n",
    "\"pandas.DataFrame.melt()\" Esta función es útil para tratar un DataFrame en un formato en el que una o más columnas son variables identificadoras, mientras que todas las demás columnas, consideradas variables medidas, se desvinculan del eje de filas, dejando sólo dos columnas no identificadoras, variable y valor. \\\n",
    "\"pandas.DataFrame.pivot()\" Esta función remodela los datos (produce una tabla \"pivotante\") basándose en los valores de las columnas. Utiliza valores únicos del índice / columnas especificadas para formar los ejes del DataFrame resultante."
   ]
  },
  {
   "cell_type": "code",
   "execution_count": 23,
   "metadata": {},
   "outputs": [
    {
     "name": "stdout",
     "output_type": "stream",
     "text": [
      "Original DataFrame:\n",
      "      A    B      C  D  E\n",
      "0  foo  one  small  1  2\n",
      "1  foo  one  large  2  4\n",
      "2  foo  two  large  2  5\n",
      "3  foo  two  small  3  5\n",
      "4  bar  one  small  3  6\n",
      "5  bar  one  large  4  6\n",
      "6  bar  two  small  5  8\n",
      "7  bar  two  large  6  9\n",
      "Melted DataFrame:\n",
      "       A    B variable  value\n",
      "0   foo  one        D      1\n",
      "1   foo  one        D      2\n",
      "2   foo  two        D      2\n",
      "3   foo  two        D      3\n",
      "4   bar  one        D      3\n",
      "5   bar  one        D      4\n",
      "6   bar  two        D      5\n",
      "7   bar  two        D      6\n",
      "8   foo  one        E      2\n",
      "9   foo  one        E      4\n",
      "10  foo  two        E      5\n",
      "11  foo  two        E      5\n",
      "12  bar  one        E      6\n",
      "13  bar  one        E      6\n",
      "14  bar  two        E      8\n",
      "15  bar  two        E      9\n"
     ]
    }
   ],
   "source": [
    "df = pd.DataFrame({'A': ['foo', 'foo', 'foo', 'foo', 'bar', 'bar', 'bar', 'bar'],\n",
    "                   'B': ['one', 'one', 'two', 'two', 'one', 'one', 'two', 'two'],\n",
    "                   'C': ['small', 'large', 'large', 'small', 'small', 'large', 'small', 'large'],\n",
    "                   'D': [1, 2, 2, 3, 3, 4, 5, 6],\n",
    "                   'E': [2, 4, 5, 5, 6, 6, 8, 9]})\n",
    "print(\"Original DataFrame:\\n\", df)\n",
    "melted = df.melt(id_vars=['A', 'B'], value_vars=['D', 'E'])\n",
    "print(\"Melted DataFrame:\\n\", melted)"
   ]
  },
  {
   "cell_type": "code",
   "execution_count": 24,
   "metadata": {},
   "outputs": [
    {
     "name": "stdout",
     "output_type": "stream",
     "text": [
      "Pivot DataFrame:\n",
      " B    one  two\n",
      "A            \n",
      "bar  3.5  5.5\n",
      "foo  1.5  2.5\n",
      "Pivot DataFrame:\n",
      " B    one  two\n",
      "A            \n",
      "bar  3.5  5.5\n",
      "foo  1.5  2.5\n"
     ]
    },
    {
     "name": "stderr",
     "output_type": "stream",
     "text": [
      "/tmp/ipykernel_18472/413127771.py:1: FutureWarning: The provided callable <function mean at 0x7ff440383d00> is currently using DataFrameGroupBy.mean. In a future version of pandas, the provided callable will be used directly. To keep current behavior pass the string \"mean\" instead.\n",
      "  pivot = df.pivot_table(index='A', columns='B', values='D', aggfunc=np.mean)  # using np.mean as the aggregation function\n"
     ]
    }
   ],
   "source": [
    "pivot = df.pivot_table(index='A', columns='B', values='D', aggfunc=np.mean)  # using np.mean as the aggregation function\n",
    "print(\"Pivot DataFrame:\\n\", pivot)\n",
    "print(\"Pivot DataFrame:\\n\", pivot)"
   ]
  },
  {
   "cell_type": "code",
   "execution_count": null,
   "metadata": {},
   "outputs": [],
   "source": []
  }
 ],
 "metadata": {
  "kernelspec": {
   "display_name": "Python 3 (ipykernel)",
   "language": "python",
   "name": "python3"
  },
  "language_info": {
   "codemirror_mode": {
    "name": "ipython",
    "version": 3
   },
   "file_extension": ".py",
   "mimetype": "text/x-python",
   "name": "python",
   "nbconvert_exporter": "python",
   "pygments_lexer": "ipython3",
   "version": "3.10.12"
  }
 },
 "nbformat": 4,
 "nbformat_minor": 2
}
