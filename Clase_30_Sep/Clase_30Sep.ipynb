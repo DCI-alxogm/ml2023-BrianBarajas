{
  "nbformat": 4,
  "nbformat_minor": 0,
  "metadata": {
    "colab": {
      "provenance": []
    },
    "kernelspec": {
      "name": "python3",
      "display_name": "Python 3"
    },
    "language_info": {
      "name": "python"
    }
  },
  "cells": [
    {
      "cell_type": "markdown",
      "source": [
        "El algoritmo para nuestro método es el siguiente: \\\n",
        "\\\n",
        "1.- Definir un valor inicial de los parametros libres $θ = [w_0 , w_1]$, $σ = []$, $θ_{ini} = []$ \\\n",
        "2.- Obtenemos un nuevo muestreo aleatorio de parametros libres de una distribución Gaussiana centrada en los valores iniciales y con una disperción predefinida. $θ_{prop} = [gaussian(θ_{ini}[0], σ), gaussian(θ_{ini}[1], σ)]$ \\\n",
        "3.- Evaluar $ln Post(θ_{ini}), lnPost(θ_{prop})$ \\\n",
        "Si $ln Post(θ_{prop}) > ln Post(θ_{ini})$ Acepto $θ_{prop} $, guardo $θ_{prop}$, $θ_{ini} = θ_{prop}$ \\\n",
        "Si no: $ptest = uniform(0,1)$, Si $(ln Post(θ_{prop}) - ln Post(θ_{init}) > ln (Ptest)): $ acepto $θ_{prop}$, $θ_{init} = θ_{prop}$ guardala. Si no guardo $θ_{ini} = θ_{ini}$ \\\n",
        "\\\n",
        "Implementtamos el código\n",
        "\n"
      ],
      "metadata": {
        "id": "7HCuR3hOu30f"
      }
    },
    {
      "cell_type": "code",
      "execution_count": 1,
      "metadata": {
        "id": "Sf6bFj5ruwqX"
      },
      "outputs": [],
      "source": [
        "import matplotlib.pyplot as plt\n",
        "import seaborn as sns\n",
        "import pandas as pd"
      ]
    },
    {
      "cell_type": "code",
      "source": [
        "def modelo_lineal(x):\n",
        "  return w[0] + w[1]*x\n",
        "\n",
        "\n",
        "def metropolis_alg(iterations, proposal_std):\n",
        "    samples = []\n",
        "    current_sample = np.random.normal(0, 1)\n",
        "\n",
        "    for _ in range(iterations):\n",
        "        proposed_sample = np.random.normal(current_sample, proposal_std)\n",
        "\n",
        "        acceptance_ratio = min(1, target_distribution(proposed_sample) / target_distribution(current_sample))\n",
        "\n",
        "        if np.random.rand() < acceptance_ratio:\n",
        "            current_sample = proposed_sample\n",
        "\n",
        "        samples.append(current_sample)\n",
        "\n",
        "    return np.array(samples)\n",
        "\n",
        "iterations = 10000\n",
        "proposal_std = 0.5\n",
        "\n",
        "samples = metropolis_alg(iterations, proposal_std)\n",
        "\n",
        "plt.hist(samples, bins=50, density=True, alpha=0.7, label='Metropolis Samples')\n",
        "x = np.linspace(-5, 5, 1000)\n",
        "plt.plot(x, target_distribution(x), 'r', label='Target Distribution')\n",
        "plt.legend()\n",
        "plt.title('Metropolis Algorithm')\n",
        "plt.show()\n"
      ],
      "metadata": {
        "id": "JBapOwxE9Gi4"
      },
      "execution_count": null,
      "outputs": []
    },
    {
      "cell_type": "code",
      "source": [
        "def modelo_lineal(w, x):\n",
        "  f = w[0] + w[1]*x\n",
        "  return f\n",
        "\n",
        "def Post(w, mod, datos):\n",
        "  P_in = np.sum( (datos - mod(w, x))**2 )\n",
        "  return P_in\n",
        "\n",
        "def Prior(w, thet):\n",
        "  if w[0] > thet[0][0] and w[0] < thet[0][1] and w[1] > thet[1][0] and w[1] < thet[1][1]:\n",
        "    Pr = 0\n",
        "  else:\n",
        "\n",
        "\n"
      ],
      "metadata": {
        "id": "tw6UZJ6ZARKA"
      },
      "execution_count": null,
      "outputs": []
    }
  ]
}